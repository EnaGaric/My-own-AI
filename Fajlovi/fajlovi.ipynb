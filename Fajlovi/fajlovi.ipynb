{
 "cells": [
  {
   "cell_type": "code",
   "execution_count": null,
   "id": "b6dd4fcd",
   "metadata": {},
   "outputs": [],
   "source": [
    "#Vektor = uređeni niz brojeva koji predstavlja veličinu i smjer (npr. položaj u prostoru)\n",
    "#Baza vektora = minimalni skup vektora iz kojeg se može dobiti svaki drugi vektor kombinacijom.\n",
    "    #Standardna baza u 2D: (1,0),(0,1)\n",
    "    #Standardna baza u 3D: (1,0,0),(0,1,0),(0,0,1)\n",
    "#to je čista geometrija iz matematike, jedinični vektori, x i y os..."
   ]
  },
  {
   "cell_type": "code",
   "execution_count": null,
   "id": "86542985",
   "metadata": {},
   "outputs": [],
   "source": [
    "#Tokenizer\n",
    "#računalo ne razumije riječ \"banana\" kao riječ, već kao niz znakova [b,a,n,a,n,a]\n",
    "#tokenizer dijeli tekst u dijelove tipa [\"hello\",\"world\",\"!\"]\n",
    "    #noviji mogu dijelit tekst i na slogove [\"un\",\"believ\",\"able\"]"
   ]
  },
  {
   "cell_type": "code",
   "execution_count": null,
   "id": "62865c50",
   "metadata": {},
   "outputs": [],
   "source": [
    "#embeddings rade tako da tekst pretvaraju u vektore brojeva koji imaju semantičko značenje\n",
    "#ako su riječi slične, njihovi vektori su u blizini npr \"cat\"=(0.11,0.95,...,0.03), \"dog\"=(0.12,0.96,...,0.05)"
   ]
  },
  {
   "cell_type": "code",
   "execution_count": null,
   "id": "d3e0f230",
   "metadata": {},
   "outputs": [],
   "source": [
    "#prva osnova: file handling"
   ]
  },
  {
   "cell_type": "code",
   "execution_count": 4,
   "id": "11a3de91",
   "metadata": {},
   "outputs": [
    {
     "ename": "FileExistsError",
     "evalue": "[Errno 17] File exists: 'citanje'",
     "output_type": "error",
     "traceback": [
      "\u001b[1;31m---------------------------------------------------------------------------\u001b[0m",
      "\u001b[1;31mFileExistsError\u001b[0m                           Traceback (most recent call last)",
      "\u001b[1;32m<ipython-input-4-3a50c65d8869>\u001b[0m in \u001b[0;36m<module>\u001b[1;34m\u001b[0m\n\u001b[1;32m----> 1\u001b[1;33m \u001b[0mfile\u001b[0m \u001b[1;33m=\u001b[0m \u001b[0mopen\u001b[0m\u001b[1;33m(\u001b[0m\u001b[1;34m\"citanje\"\u001b[0m\u001b[1;33m,\u001b[0m\u001b[1;34m\"x\"\u001b[0m\u001b[1;33m)\u001b[0m\u001b[1;33m\u001b[0m\u001b[0m\n\u001b[0m\u001b[0;32m      2\u001b[0m \u001b[0mfile\u001b[0m\u001b[1;33m.\u001b[0m\u001b[0mclose\u001b[0m\u001b[1;33m\u001b[0m\u001b[0m\n",
      "\u001b[1;31mFileExistsError\u001b[0m: [Errno 17] File exists: 'citanje'"
     ]
    }
   ],
   "source": [
    "file = open(\"citanje\",\"x\")\n",
    "file.close"
   ]
  },
  {
   "cell_type": "code",
   "execution_count": 5,
   "id": "e68f533a",
   "metadata": {},
   "outputs": [],
   "source": [
    "#ovaj error mi govori da sam prvi put uspješno napravila file te da ne mogu stvorit novi s istim imenom.\n",
    "#značke koje moram znati:"
   ]
  },
  {
   "cell_type": "code",
   "execution_count": null,
   "id": "c849c1db",
   "metadata": {},
   "outputs": [],
   "source": [
    "#\"r\" → read (čitanje, default)\n",
    "\n",
    "#\"w\" → write (pisanje, briše staro i piše novo)\n",
    "\n",
    "#\"a\" → append (nadodaje na kraj)\n",
    "\n",
    "#\"x\" → create (kreira novi file, pukne error ako već postoji)\n",
    "\n",
    "#možeš dodati \"t\" za text (default) ili \"b\" za binary (slike, pdf…)"
   ]
  },
  {
   "cell_type": "code",
   "execution_count": null,
   "id": "9d8e31cc",
   "metadata": {},
   "outputs": [],
   "source": [
    "šta moraš znat za čitanje datoteke\n",
    "\n",
    "#f.read() → pročita cijeli file kao string\n",
    "\n",
    "#f.readline() → čita red po red\n",
    "\n",
    "#f.readlines() → vrati listu svih redova\n",
    "\n",
    "#imam i open with blabla koji automatski zatvara fajl, bez da pišem file.close"
   ]
  },
  {
   "cell_type": "code",
   "execution_count": 6,
   "id": "f35c6d1d",
   "metadata": {},
   "outputs": [
    {
     "ename": "UnsupportedOperation",
     "evalue": "not readable",
     "output_type": "error",
     "traceback": [
      "\u001b[1;31m---------------------------------------------------------------------------\u001b[0m",
      "\u001b[1;31mUnsupportedOperation\u001b[0m                      Traceback (most recent call last)",
      "\u001b[1;32m<ipython-input-6-2c4060065fab>\u001b[0m in \u001b[0;36m<module>\u001b[1;34m\u001b[0m\n\u001b[0;32m      2\u001b[0m     \u001b[0mfile\u001b[0m\u001b[1;33m.\u001b[0m\u001b[0mwrite\u001b[0m\u001b[1;33m(\u001b[0m\u001b[1;34m\"ovo je prvi red\\n\"\u001b[0m\u001b[1;33m)\u001b[0m \u001b[1;31m#n je da idući ode u novi redak\u001b[0m\u001b[1;33m\u001b[0m\u001b[0m\n\u001b[0;32m      3\u001b[0m     \u001b[0mfile\u001b[0m\u001b[1;33m.\u001b[0m\u001b[0mwrite\u001b[0m\u001b[1;33m(\u001b[0m\u001b[1;34m\"nadam se da je ovo drugi red\\n\"\u001b[0m\u001b[1;33m)\u001b[0m\u001b[1;33m\u001b[0m\u001b[0m\n\u001b[1;32m----> 4\u001b[1;33m     \u001b[0mprint\u001b[0m\u001b[1;33m(\u001b[0m\u001b[0mfile\u001b[0m\u001b[1;33m.\u001b[0m\u001b[0mread\u001b[0m\u001b[1;33m(\u001b[0m\u001b[1;33m)\u001b[0m\u001b[1;33m)\u001b[0m\u001b[1;33m\u001b[0m\u001b[0m\n\u001b[0m",
      "\u001b[1;31mUnsupportedOperation\u001b[0m: not readable"
     ]
    }
   ],
   "source": [
    "with open(\"citanje\",\"w\") as file:\n",
    "    file.write(\"ovo je prvi red\\n\") #n je da idući ode u novi redak\n",
    "    file.write(\"nadam se da je ovo drugi red\\n\")\n",
    "    print(file.read())"
   ]
  },
  {
   "cell_type": "code",
   "execution_count": null,
   "id": "fc0ce899",
   "metadata": {},
   "outputs": [],
   "source": [
    "#ovo mi izbacuje jer sam ga otvorila kao write, pa ne može ništa pročitat, stoga moram novi redak napisat"
   ]
  },
  {
   "cell_type": "code",
   "execution_count": 7,
   "id": "62f3dc02",
   "metadata": {},
   "outputs": [
    {
     "ename": "SyntaxError",
     "evalue": "EOL while scanning string literal (<ipython-input-7-8539145c0f54>, line 1)",
     "output_type": "error",
     "traceback": [
      "\u001b[1;36m  File \u001b[1;32m\"<ipython-input-7-8539145c0f54>\"\u001b[1;36m, line \u001b[1;32m1\u001b[0m\n\u001b[1;33m    with open(\"citanje,\"r\") as file:\u001b[0m\n\u001b[1;37m                                    ^\u001b[0m\n\u001b[1;31mSyntaxError\u001b[0m\u001b[1;31m:\u001b[0m EOL while scanning string literal\n"
     ]
    }
   ],
   "source": [
    "with open(\"citanje,\"r\") as file:\n",
    "          print(file.read())"
   ]
  },
  {
   "cell_type": "code",
   "execution_count": 8,
   "id": "97f5d2c4",
   "metadata": {},
   "outputs": [
    {
     "name": "stdout",
     "output_type": "stream",
     "text": [
      "ovo je prvi red\n",
      "nadam se da je ovo drugi red\n",
      "\n"
     ]
    }
   ],
   "source": [
    "#jebemu zaboravila san navodnike\"\n",
    "with open(\"citanje\",\"r\") as file:\n",
    "          print(file.read())"
   ]
  },
  {
   "cell_type": "code",
   "execution_count": 9,
   "id": "7c46b238",
   "metadata": {},
   "outputs": [],
   "source": [
    "evo copy paste modula za otvaranje teksta:\n",
    "#\"r\" → read (default, samo čitanje; error ako file ne postoji)\n",
    "\n",
    "#\"w\" → write (briše sve i piše novo; kreira ako ne postoji)\n",
    "\n",
    "#\"a\" → append (dodaje na kraj; kreira ako ne postoji)\n",
    "\n",
    "#\"x\" → create (napravi novi; error ako već postoji)\n",
    "\n",
    "#I kombinacije:\n",
    "\n",
    "#\"r+\" → čitanje + pisanje (ne briše stari sadržaj)\n",
    "\n",
    "#\"w+\" → pisanje + čitanje (ali briše stari sadržaj)\n",
    "\n",
    "#\"a+\" → dodavanje + čitanje\n",
    "\n",
    "#I binarni mod:\n",
    "\n",
    "#\"rb\", \"wb\", \"ab\" … (za slike, pdf itd., radi s bajtovima umjesto stringova)"
   ]
  },
  {
   "cell_type": "code",
   "execution_count": null,
   "id": "83b50985",
   "metadata": {},
   "outputs": [],
   "source": [
    "Kad imam file objekt, mogu radit sljedeće stvari:\n",
    "    file.read() → pročita cijeli sadržaj u string\n",
    "\n",
    "    file.readline() → pročita samo jedan red\n",
    "\n",
    "    file.readlines() → vrati listu svih redova\n",
    "\n",
    "    #for line in file: → iterira red po red\n",
    "    \n",
    "Pisanje:\n",
    "    #file.write(\"tekst\") → upisuje string\n",
    "\n",
    "    #file.writelines(lista) → piše listu stringova u file\n",
    "\n",
    "Traženje nečega šta mi je u fajlu:\n",
    "    #file.seek(pozicija) → pomakne \"kazaljku\" na određeni byte u fileu\n",
    "\n",
    "    #file.tell() → pokaže gdje se trenutno nalazi kazaljka\n",
    "\n",
    "I ostale cake:\n",
    "    file.close() → zatvori file (nije ti potrebno ako koristiš #with)\n",
    "\n",
    "    file.name → vrati ime filea\n",
    "\n",
    "    #file.mode → u kojem modu je otvoren (\"r\", \"w\", itd.)\n",
    "\n",
    "    #file.closed → True/False da li je zatvoren"
   ]
  },
  {
   "cell_type": "code",
   "execution_count": null,
   "id": "baf26a96",
   "metadata": {},
   "outputs": [],
   "source": [
    "Da idem tipa ispisat cili fajl, al želim da mi kaže koji red je šta, moran koristit onaj #enumerate\n",
    "#with open(\"citanje.txt\", \"r\") as f:\n",
    "    #for idx, line in enumerate(f, start=1):  # start=1 znači da počinje broj od 1\n",
    "        #print(f\"{idx}: {line.strip()}\")\n",
    "f → file objekt\n",
    "\n",
    "#enumerate(f, start=1) → vraća (broj, red) po redu\n",
    "\n",
    "line.strip() → uklanja \\n s kraja reda\n",
    "\n",
    "#\"{idx}: {line.strip()}\" → f-string koji lijepo formatira output"
   ]
  },
  {
   "cell_type": "code",
   "execution_count": 13,
   "id": "4ed6c561",
   "metadata": {},
   "outputs": [
    {
     "ename": "SyntaxError",
     "evalue": "invalid syntax (<ipython-input-13-62c40d5445cc>, line 3)",
     "output_type": "error",
     "traceback": [
      "\u001b[1;36m  File \u001b[1;32m\"<ipython-input-13-62c40d5445cc>\"\u001b[1;36m, line \u001b[1;32m3\u001b[0m\n\u001b[1;33m    print(file\"{idx} : {line,strip()}\")\u001b[0m\n\u001b[1;37m                                     ^\u001b[0m\n\u001b[1;31mSyntaxError\u001b[0m\u001b[1;31m:\u001b[0m invalid syntax\n"
     ]
    }
   ],
   "source": [
    "with open(\"citanje\",\"r\") as file:\n",
    "    for idx, čine in enumerate(file, start=1):\n",
    "        print(file\"{idx} : {line,strip()}\")"
   ]
  },
  {
   "cell_type": "code",
   "execution_count": 17,
   "id": "e1e1473e",
   "metadata": {},
   "outputs": [
    {
     "name": "stdout",
     "output_type": "stream",
     "text": [
      "1 : ovo je prvi red\n",
      "2 : nadam se da je ovo drugi red\n"
     ]
    }
   ],
   "source": [
    "#jebenti mater moran pisat f\n",
    "with open(\"citanje\",\"r\") as file:\n",
    "\n",
    "    for idx, line in enumerate(file, start=1):\n",
    "\n",
    "        print(f\"{idx} : {line.strip()}\")"
   ]
  },
  {
   "cell_type": "code",
   "execution_count": 21,
   "id": "0f90bee4",
   "metadata": {},
   "outputs": [
    {
     "ename": "SyntaxError",
     "evalue": "EOL while scanning string literal (<ipython-input-21-8772e4834a5a>, line 10)",
     "output_type": "error",
     "traceback": [
      "\u001b[1;36m  File \u001b[1;32m\"<ipython-input-21-8772e4834a5a>\"\u001b[1;36m, line \u001b[1;32m10\u001b[0m\n\u001b[1;33m    print(file\"{idx} : {line.strip()})\u001b[0m\n\u001b[1;37m                                      ^\u001b[0m\n\u001b[1;31mSyntaxError\u001b[0m\u001b[1;31m:\u001b[0m EOL while scanning string literal\n"
     ]
    }
   ],
   "source": [
    "#sad cu probat napravit jedan file i nesto napisat, onda ga prebacit u drugi i otvorit drugi da ga ispiše\n",
    "\n",
    "with open(\"prvi.txt\",\"w\") as file:\n",
    "    file.write(\"banana\\n\")\n",
    "    file.write(\"breskva\\n\")\n",
    "    file.write(\"ananas\\n\")\n",
    "    \n",
    "with open(\"prvi.txt\",\"r\") as file:\n",
    "    for idx, line in enumerate(file, start=1):\n",
    "        print(f\"{idx} : {line.strip()})\n",
    "              \n",
    "with open(\"drugi.txt\",\"w\") as novi:\n",
    "              with open(\"prvi.txt\",\"r\") as file:\n",
    "                  for idx, line in enumerate(novi, start=1):\n",
    "              \n",
    "              \n",
    "with open(\"drugi.txt\",\"r\") as novi:\n",
    "              print(f\"{idx} : {line.strip()}\")"
   ]
  },
  {
   "cell_type": "code",
   "execution_count": 23,
   "id": "dff25dff",
   "metadata": {},
   "outputs": [
    {
     "ename": "IndentationError",
     "evalue": "expected an indented block (<ipython-input-23-9e99d9e0616b>, line 15)",
     "output_type": "error",
     "traceback": [
      "\u001b[1;36m  File \u001b[1;32m\"<ipython-input-23-9e99d9e0616b>\"\u001b[1;36m, line \u001b[1;32m15\u001b[0m\n\u001b[1;33m    with open(\"drugi.txt\",\"r\") as novi:\u001b[0m\n\u001b[1;37m                                       ^\u001b[0m\n\u001b[1;31mIndentationError\u001b[0m\u001b[1;31m:\u001b[0m expected an indented block\n"
     ]
    }
   ],
   "source": [
    "with open(\"prvi.txt\",\"w\") as file:\n",
    "    file.write(\"banana\\n\")\n",
    "    file.write(\"breskva\\n\")\n",
    "    file.write(\"ananas\\n\")\n",
    "    \n",
    "with open(\"prvi.txt\",\"r\") as file:\n",
    "    for idx, line in enumerate(file, start=1):\n",
    "        print(f\"{idx} : {line.strip()}\")\n",
    "              \n",
    "with open(\"drugi.txt\",\"w\") as novi:\n",
    "              with open(\"prvi.txt\",\"r\") as file:\n",
    "                  for idx, line in enumerate(file, start=1): #stavljen je na read debilu mrtvi\n",
    "              \n",
    "              \n",
    "with open(\"drugi.txt\",\"r\") as novi:\n",
    "    for line in novi:\n",
    "        print(line.strip())"
   ]
  },
  {
   "cell_type": "code",
   "execution_count": 24,
   "id": "74d4d59a",
   "metadata": {},
   "outputs": [
    {
     "name": "stdout",
     "output_type": "stream",
     "text": [
      "1 : banana\n",
      "2 : breskva\n",
      "3 : ananas\n",
      "1 : banana\n",
      "2 : breskva\n",
      "3 : ananas\n"
     ]
    }
   ],
   "source": [
    "#ovo mi već ide na živce zaboravila san na glupu for petlju da je moran zatvorit\n",
    "\n",
    "with open(\"prvi.txt\",\"w\") as file:\n",
    "    file.write(\"banana\\n\")\n",
    "    file.write(\"breskva\\n\")\n",
    "    file.write(\"ananas\\n\")\n",
    "\n",
    "\n",
    "with open(\"prvi.txt\",\"r\") as file:\n",
    "    for idx, line in enumerate(file, start=1):\n",
    "        print(f\"{idx} : {line.strip()}\")\n",
    "\n",
    "              \n",
    "\n",
    "with open(\"drugi.txt\",\"w\") as novi:\n",
    "              with open(\"prvi.txt\",\"r\") as file:\n",
    "                 for idx, line in enumerate(file, start=1): #stavljen je na read debilu mrtvi\n",
    "                    novi.write(f\"{idx} : {line}\")\n",
    "              \n",
    "with open(\"drugi.txt\",\"r\") as novi:\n",
    "    for line in novi:\n",
    "        print(line.strip())\n"
   ]
  },
  {
   "cell_type": "code",
   "execution_count": null,
   "id": "60010d94",
   "metadata": {},
   "outputs": [],
   "source": [
    "#okej what the fuck zašto ga ponavlja?????????????????????????????????????????????????????????\n",
    "#bruhhhhhhhhhhh"
   ]
  },
  {
   "cell_type": "code",
   "execution_count": 27,
   "id": "152f7fb0",
   "metadata": {},
   "outputs": [
    {
     "name": "stdout",
     "output_type": "stream",
     "text": [
      "1 : banana\n",
      "2 : breskva\n",
      "3 : ananas\n"
     ]
    },
    {
     "ename": "UnsupportedOperation",
     "evalue": "not readable",
     "output_type": "error",
     "traceback": [
      "\u001b[1;31m---------------------------------------------------------------------------\u001b[0m",
      "\u001b[1;31mUnsupportedOperation\u001b[0m                      Traceback (most recent call last)",
      "\u001b[1;32m<ipython-input-27-01cec0f4c493>\u001b[0m in \u001b[0;36m<module>\u001b[1;34m\u001b[0m\n\u001b[0;32m     13\u001b[0m \u001b[1;32mwith\u001b[0m \u001b[0mopen\u001b[0m\u001b[1;33m(\u001b[0m\u001b[1;34m\"drugi.txt\"\u001b[0m\u001b[1;33m,\u001b[0m\u001b[1;34m\"w\"\u001b[0m\u001b[1;33m)\u001b[0m \u001b[1;32mas\u001b[0m \u001b[0mnovi\u001b[0m\u001b[1;33m:\u001b[0m\u001b[1;33m\u001b[0m\u001b[0m\n\u001b[0;32m     14\u001b[0m               \u001b[1;32mwith\u001b[0m \u001b[0mopen\u001b[0m\u001b[1;33m(\u001b[0m\u001b[1;34m\"prvi.txt\"\u001b[0m\u001b[1;33m,\u001b[0m\u001b[1;34m\"r\"\u001b[0m\u001b[1;33m)\u001b[0m \u001b[1;32mas\u001b[0m \u001b[0mfile\u001b[0m\u001b[1;33m:\u001b[0m\u001b[1;33m\u001b[0m\u001b[0m\n\u001b[1;32m---> 15\u001b[1;33m                  \u001b[1;32mfor\u001b[0m \u001b[0midx\u001b[0m\u001b[1;33m,\u001b[0m \u001b[0mlinus\u001b[0m \u001b[1;32min\u001b[0m \u001b[0menumerate\u001b[0m\u001b[1;33m(\u001b[0m\u001b[0mnovi\u001b[0m\u001b[1;33m,\u001b[0m \u001b[0mstart\u001b[0m\u001b[1;33m=\u001b[0m\u001b[1;36m1\u001b[0m\u001b[1;33m)\u001b[0m\u001b[1;33m:\u001b[0m\u001b[1;33m\u001b[0m\u001b[0m\n\u001b[0m\u001b[0;32m     16\u001b[0m                     \u001b[0mnovi\u001b[0m\u001b[1;33m.\u001b[0m\u001b[0mwrite\u001b[0m\u001b[1;33m(\u001b[0m\u001b[1;34mf\"{idx} : {line}\"\u001b[0m\u001b[1;33m)\u001b[0m\u001b[1;33m\u001b[0m\u001b[0m\n\u001b[0;32m     17\u001b[0m \u001b[1;33m\u001b[0m\u001b[0m\n",
      "\u001b[1;31mUnsupportedOperation\u001b[0m: not readable"
     ]
    }
   ],
   "source": [
    "with open(\"prvi.txt\",\"w\") as file:\n",
    "    file.write(\"banana\\n\")\n",
    "    file.write(\"breskva\\n\")\n",
    "    file.write(\"ananas\\n\")\n",
    "\n",
    "\n",
    "with open(\"prvi.txt\",\"r\") as file:\n",
    "    for idx, line in enumerate(file, start=1):\n",
    "        print(f\"{idx} : {line.strip()}\")\n",
    "\n",
    "              \n",
    "\n",
    "with open(\"drugi.txt\",\"w\") as novi:\n",
    "              with open(\"prvi.txt\",\"r\") as file:\n",
    "                 for idx, linus in enumerate(novi, start=1):\n",
    "                    novi.write(f\"{idx} : {line}\")\n",
    "              \n",
    "with open(\"drugi.txt\",\"r\") as novi:\n",
    "    for lius in novi:\n",
    "        print(linus.strip())\n"
   ]
  },
  {
   "cell_type": "code",
   "execution_count": 29,
   "id": "cb2455eb",
   "metadata": {},
   "outputs": [
    {
     "name": "stdout",
     "output_type": "stream",
     "text": [
      "1 : banana\n",
      "2 : breskva\n",
      "3 : ananas\n"
     ]
    }
   ],
   "source": [
    "#okej znaci ne mora bit razlicito napisano....mora problem bit sa tin read i write.\n",
    "#sta ako ja samo zakomentiran jedan dio tho???\n",
    "\n",
    "with open(\"prvi.txt\",\"w\") as file:\n",
    "    file.write(\"banana\\n\")\n",
    "    file.write(\"breskva\\n\")\n",
    "    file.write(\"ananas\\n\")\n",
    "\n",
    "\n",
    "#with open(\"prvi.txt\",\"r\") as file:\n",
    "    #for idx, line in enumerate(file, start=1):\n",
    "        #print(f\"{idx} : {line.strip()}\")\n",
    "\n",
    "              \n",
    "\n",
    "with open(\"drugi.txt\",\"w\") as novi:\n",
    "              with open(\"prvi.txt\",\"r\") as file:\n",
    "                 for idx, line in enumerate(file, start=1):\n",
    "                    novi.write(f\"{idx} : {line}\")\n",
    "              \n",
    "with open(\"drugi.txt\",\"r\") as novi:\n",
    "    for line in novi:\n",
    "        print(line.strip())"
   ]
  },
  {
   "cell_type": "code",
   "execution_count": null,
   "id": "52fff3bd",
   "metadata": {},
   "outputs": [],
   "source": [
    "#IDEMOOOOOOOOOOOOOOOOOOOOOOOOOOOOOOOOOOOOOOOOOOOOOOOOOOOOOOOOOOOOOOOOOOOOOOOOOOOOOO"
   ]
  },
  {
   "cell_type": "code",
   "execution_count": 35,
   "id": "60f28da2",
   "metadata": {},
   "outputs": [
    {
     "name": "stdout",
     "output_type": "stream",
     "text": [
      "<built-in method strip of str object at 0x000002C76EF4E9B0>\n",
      "<built-in method strip of str object at 0x000002C7702F3070>\n",
      "<built-in method strip of str object at 0x000002C76EF4E9B0>\n",
      "<built-in method strip of str object at 0x000002C7702F3070>\n",
      "<built-in method strip of str object at 0x000002C76EF4E9B0>\n"
     ]
    }
   ],
   "source": [
    "with open(\"voce.txt\", \"w\") as file:\n",
    "    file.write(\"banana\\n\")\n",
    "    file.write(\"breskva\\n\")\n",
    "    file.write(\"ananas\\n\")\n",
    "    file.write(\"jabuka\\n\")\n",
    "    file.write(\"kruska\\n\")\n",
    "    \n",
    "#sta moraš znat za čitanje datoteke\n",
    "\n",
    "#f.read() → pročita cijeli file kao string\n",
    "\n",
    "#f.readline() → čita red po red\n",
    "\n",
    "#f.readlines() → vrati listu svih redova\n",
    "\n",
    "with open(\"voce.txt\",\"r\") as file:\n",
    "    sve = file.readlines()\n",
    "    redovi = sve.sort()\n",
    "    \n",
    "with open(\"soce.txt\",\"w\") as novi:\n",
    "    with open(\"voce.txt\",\"r\") as file:\n",
    "        for idx, line in enumerate(file, start=1):\n",
    "            novi.write(f\"{idx} : {line}\") #'NoneType' object has no attribute 'write' me izluđuje\n",
    "\n",
    "with open(\"soce.txt\",\"r\") as novi:\n",
    "    for line in novi:\n",
    "        print(line.strip)"
   ]
  },
  {
   "cell_type": "code",
   "execution_count": null,
   "id": "9d66979c",
   "metadata": {},
   "outputs": [],
   "source": [
    "aha.....okej očito san neki cirkus napravila i triban glupi strip koristit, nadam se"
   ]
  },
  {
   "cell_type": "code",
   "execution_count": 39,
   "id": "e3f86292",
   "metadata": {},
   "outputs": [
    {
     "name": "stdout",
     "output_type": "stream",
     "text": [
      "<built-in method strip of str object at 0x000002C7719EB9F0>\n",
      "<built-in method strip of str object at 0x000002C76EF4E9B0>\n",
      "<built-in method strip of str object at 0x000002C7719EB9F0>\n",
      "<built-in method strip of str object at 0x000002C76EF4E9B0>\n",
      "<built-in method strip of str object at 0x000002C7719EB9F0>\n"
     ]
    }
   ],
   "source": [
    "with open(\"voce.txt\", \"w\") as file:\n",
    "    file.write(\"banana\\n\")\n",
    "    file.write(\"breskva\\n\")\n",
    "    file.write(\"ananas\\n\")\n",
    "    file.write(\"jabuka\\n\")\n",
    "    file.write(\"kruska\\n\")\n",
    "    \n",
    "#sta moraš znat za čitanje datoteke\n",
    "\n",
    "#f.read() → pročita cijeli file kao string\n",
    "\n",
    "#f.readline() → čita red po red\n",
    "\n",
    "#f.readlines() → vrati listu svih redova\n",
    "\n",
    "with open(\"voce.txt\",\"r\") as file:\n",
    "    redovi = file.readlines()\n",
    "    \n",
    "sve = []\n",
    "for rrr in redovi:\n",
    "    sve.append(rrr.strip())\n",
    "redovi = sve    \n",
    "redovi = sve.sort()\n",
    "    \n",
    "with open(\"soce.txt\",\"w\") as novi:\n",
    "    with open(\"voce.txt\",\"r\") as file:\n",
    "        for idx, line in enumerate(file, start=1):\n",
    "            novi.write(f\"{idx} : {line}\")\n",
    "\n",
    "with open(\"soce.txt\",\"r\") as novi:\n",
    "    for line in novi:\n",
    "        print(line.strip)"
   ]
  },
  {
   "cell_type": "code",
   "execution_count": null,
   "id": "325a498a",
   "metadata": {},
   "outputs": [],
   "source": [
    "#okej, moran guglat, ajde ena izdrzi za taj masni dobar ai"
   ]
  },
  {
   "cell_type": "code",
   "execution_count": 43,
   "id": "b501eaee",
   "metadata": {},
   "outputs": [
    {
     "name": "stdout",
     "output_type": "stream",
     "text": [
      "<built-in method write of _io.TextIOWrapper object at 0x000002C76FC97CF0>\n"
     ]
    }
   ],
   "source": [
    "with open(\"voce.txt\", \"w\") as file:\n",
    "    file.write(\"banana\\n\")\n",
    "    file.write(\"breskva\\n\")\n",
    "    file.write(\"ananas\\n\")\n",
    "    file.write(\"jabuka\\n\")\n",
    "    file.write(\"kruska\\n\")\n",
    "#\"w\" → write mode, stvara novi file ili prepisuje postojeći\n",
    "\n",
    "#\\n → novi red, inače bi se sve napisalo u jednom redu\n",
    "\n",
    "#with open(...) as file: → automatski zatvara file kad izađeš iz bloka (nema potrebe za file.close())\n",
    "\n",
    "with open(\"voce.txt\",\"r\") as file:\n",
    "    redovi = [r.strip() for r in file.readlines()]\n",
    "    \n",
    "#\"r\" → read mode, samo čita tekst file\n",
    "\n",
    "#file.readlines() → učita sve redove u listu, jer taj lik općenito samo čita\n",
    "\n",
    "#[r.strip() for r in ...] → glupi list comprehension\n",
    "\n",
    "#ide kroz svaki red r\n",
    "\n",
    "#strip() uklanja \\n i suvišne razmake\n",
    "\n",
    "#Rezultat: redovi = lista čistih stringova, npr. [\"banana\", \"breskva\", \"ananas\", ...]\n",
    "# za sortirat pišen isto\n",
    "redovi.sort()\n",
    "\n",
    "with open(\"soce.txt\",\"w\") as novi:\n",
    "    for idx, line in enumerate(redovi, start=1):\n",
    "        novi.write(f\"{idx} : {line}\\n\")\n",
    "#\"w\" → write mode za novi file\n",
    "\n",
    "#enumerate(..., start=1) → dodaje broj ispred svakog reda\n",
    "\n",
    "#f\"{idx} : {line}\\n\" → formatira string i dodaje novi red\n",
    "print(novi.write)"
   ]
  },
  {
   "cell_type": "code",
   "execution_count": 46,
   "id": "430773f2",
   "metadata": {},
   "outputs": [
    {
     "name": "stdout",
     "output_type": "stream",
     "text": [
      "1 : ananas\n",
      "2 : banana\n",
      "3 : breskva\n",
      "4 : jabuka\n",
      "5 : kruska\n"
     ]
    }
   ],
   "source": [
    "#NENENENENENENNENENEE ŠTA TI RADIŠ SAMO SI DODALA NISTA NE PIŠI\n",
    "\n",
    "with open(\"voce.txt\", \"w\") as file:\n",
    "    file.write(\"banana\\n\")\n",
    "    file.write(\"breskva\\n\")\n",
    "    file.write(\"ananas\\n\")\n",
    "    file.write(\"jabuka\\n\")\n",
    "    file.write(\"kruska\\n\")\n",
    "\n",
    "with open(\"voce.txt\",\"r\") as file:\n",
    "    redovi = [r.strip() for r in file.readlines()]\n",
    "\n",
    "redovi.sort()\n",
    "\n",
    "with open(\"soce.txt\",\"w\") as novi:\n",
    "    for idx, line in enumerate(redovi, start=1):\n",
    "        novi.write(f\"{idx} : {line}\\n\")\n",
    "        \n",
    "with open(\"soce.txt\",\"r\") as pliz:\n",
    "    for line in pliz:\n",
    "        print(line.strip())"
   ]
  },
  {
   "cell_type": "code",
   "execution_count": null,
   "id": "40cfc3e5",
   "metadata": {},
   "outputs": [],
   "source": [
    "#zakljucak je uvik piši strip jer inače će te python prcat u mozak\n",
    "#aha, samo san debil...ne pise se print line strip nego print line strip()"
   ]
  }
 ],
 "metadata": {
  "kernelspec": {
   "display_name": "Python 3",
   "language": "python",
   "name": "python3"
  },
  "language_info": {
   "codemirror_mode": {
    "name": "ipython",
    "version": 3
   },
   "file_extension": ".py",
   "mimetype": "text/x-python",
   "name": "python",
   "nbconvert_exporter": "python",
   "pygments_lexer": "ipython3",
   "version": "3.6.3"
  }
 },
 "nbformat": 4,
 "nbformat_minor": 5
}
