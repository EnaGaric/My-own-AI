{
 "cells": [
  {
   "cell_type": "code",
   "execution_count": null,
   "id": "bf736743",
   "metadata": {},
   "outputs": [],
   "source": [
    "1) Otvaranje fajlova\n",
    "\n",
    "f = open(\"filename.txt\", mode)\n",
    "\n",
    "Mode opcije:\n",
    "Mode je šta radi\n",
    "\n",
    "\"r\" Read only, error ako file ne postoji\n",
    "\"w\" Write, kreira novi ili prepisuje postojeći\n",
    "\"a\" Append, dodaje na kraj filea\n",
    "\"x\" Create, stvara novi file, error ako već postoji\n",
    "\"b\" Binary mode (npr. za slike, audio, binarne fileove)\n",
    "\"+\" Read/write (može se kombinirati, npr. \"r+\", \"w+\")"
   ]
  },
  {
   "cell_type": "code",
   "execution_count": null,
   "id": "f663bd1b",
   "metadata": {},
   "outputs": [],
   "source": [
    "!!!!!!Preporuka: uvijek koristiti with open(...) as f: → automatski zatvara file\n",
    "\n",
    "with open(\"file.txt\", \"r\") as f:\n",
    "    contents = f.read()"
   ]
  },
  {
   "cell_type": "code",
   "execution_count": 1,
   "id": "4286ffb9",
   "metadata": {},
   "outputs": [
    {
     "ename": "SyntaxError",
     "evalue": "invalid syntax (<ipython-input-1-5caf28763b5e>, line 1)",
     "output_type": "error",
     "traceback": [
      "\u001b[1;36m  File \u001b[1;32m\"<ipython-input-1-5caf28763b5e>\"\u001b[1;36m, line \u001b[1;32m1\u001b[0m\n\u001b[1;33m    2) Čitanje fileova\u001b[0m\n\u001b[1;37m     ^\u001b[0m\n\u001b[1;31mSyntaxError\u001b[0m\u001b[1;31m:\u001b[0m invalid syntax\n"
     ]
    }
   ],
   "source": [
    "2) Čitanje fajlova\n",
    "\n",
    "Funkcija: Šta radi\n",
    "    \n",
    "f.read() Čita cijeli file kao string\n",
    "f.readline() Čita jedan red\n",
    "f.readlines() Vraća listu svih redova\n",
    "for line in f: Iterira kroz redove jedan po jedan\n",
    "\n",
    "DISCLAIMER: očisti \\n i razmake:\n",
    "\n",
    "redovi = [r.strip() for r in f.readlines()]"
   ]
  },
  {
   "cell_type": "code",
   "execution_count": null,
   "id": "c7d6f03a",
   "metadata": {},
   "outputs": [],
   "source": [
    "3) Pisanje fajlova\n",
    "\n",
    "f.write(\"tekst\\n\")  piše string u file\n",
    "\n",
    "f.writelines(list_of_strings)  piše listu stringova bez automatskog \\n\n",
    "\n",
    "lines = [\"banana\\n\", \"jabuka\\n\"]\n",
    "with open(\"voce.txt\",\"w\") as f:\n",
    "    f.writelines(lines)"
   ]
  },
  {
   "cell_type": "code",
   "execution_count": null,
   "id": "3b728954",
   "metadata": {},
   "outputs": [],
   "source": [
    "4) Navigacija (seek/tell)\n",
    "\n",
    "f.tell()  trenutna pozicija u fileu (u bajtovima)\n",
    "\n",
    "f.seek(pos)  premjesti kursor na određenu poziciju\n",
    "\n",
    "Koristi to za binarne fileove ili kada želiš “preskočiti” dio filea\n",
    "\n",
    "f.seek(0)  ide na početak filea"
   ]
  },
  {
   "cell_type": "code",
   "execution_count": null,
   "id": "ece72942",
   "metadata": {},
   "outputs": [],
   "source": [
    "5) Sortiranje, strip, enumerate !!!!!!!!!!!!!!!!!!!!\n",
    "\n",
    "strip()  uklanja \\n i prazne razmake\n",
    "\n",
    ".sort()  sortira in-place\n",
    "\n",
    "sorted(list)  vraća novu sortiranu listu\n",
    "\n",
    "enumerate(list, start=1)  dodaje brojeve redova\n",
    "\n",
    "redovi = [\"banana\", \"ananas\", \"jabuka\"]\n",
    "redovi.sort()  # ['ananas', 'banana', 'jabuka']\n",
    "for idx, line in enumerate(redovi, start=1):\n",
    "    print(f\"{idx} : {line}\")"
   ]
  },
  {
   "cell_type": "code",
   "execution_count": null,
   "id": "2af97da6",
   "metadata": {},
   "outputs": [],
   "source": [
    "6) Append i multiple file handling\n",
    "\n",
    "Append\n",
    "with open(\"file.txt\", \"a\") as f:\n",
    "    f.write(\"novi red\\n\")\n",
    "\n",
    "Čitanje jednog fajla i pisanje u drugi\n",
    "with open(\"source.txt\",\"r\") as src:\n",
    "    with open(\"dest.txt\",\"w\") as dst:\n",
    "        for idx, line in enumerate(src, start=1):\n",
    "            dst.write(f\"{idx} : {line}\")\n",
    "\n",
    "odi moš koristiti višestruke with blokove\n",
    "\n",
    "čak moš i pisati u novi file dok čitaš iz više fajlova"
   ]
  },
  {
   "cell_type": "code",
   "execution_count": null,
   "id": "97410c7c",
   "metadata": {},
   "outputs": [],
   "source": [
    "7) Binarni fileovi (slike, audio, objekti)\n",
    "\n",
    "Čitanje slike u binarnom modu\n",
    "with open(\"slika.png\", \"rb\") as f:\n",
    "    data = f.read()\n",
    "\n",
    "Pisanje binarnog filea\n",
    "with open(\"kopija_slika.png\", \"wb\") as f:\n",
    "    f.write(data)\n",
    "\n",
    "\n",
    "\"rb\"  read binary\n",
    "\n",
    "\"wb\"  write binary\n",
    "\n",
    "Ovo je jedini ja mislin način da radiš sa slikama, mp3, pickle objektima itd."
   ]
  },
  {
   "cell_type": "code",
   "execution_count": null,
   "id": "a7c5b7b1",
   "metadata": {},
   "outputs": [],
   "source": [
    "8) Pickle – spremanje Python objekata!!!!!!!!!!!!!!!!!!!\n",
    "\n",
    "import pickle\n",
    "\n",
    "data = {\"ime\": \"Mihu\", \"age\": 21}\n",
    "\n",
    "zapisivanje\n",
    "with open(\"data.pkl\", \"wb\") as f:\n",
    "    pickle.dump(data, f)\n",
    "\n",
    "čitanje\n",
    "with open(\"data.pkl\", \"rb\") as f:\n",
    "    loaded_data = pickle.load(f)\n",
    "\n",
    "\n",
    "Super za spremanje listi, dictova, objekata\n",
    "\n",
    "Koristi binary mode \"wb\" i \"rb\""
   ]
  },
  {
   "cell_type": "code",
   "execution_count": null,
   "id": "bee03a90",
   "metadata": {},
   "outputs": [],
   "source": [
    "Ne budi budala i pazi na ovo\n",
    "\n",
    ".strip bez ()  ispisuje <built-in method ...>\n",
    "\n",
    ".sort() vraca None → ne radi list2 = list1.sort()\n",
    "\n",
    "Zaboravi \\n → svi redovi u jednom redu\n",
    "\n",
    "Čitanje iz filea nakon što je cursor na kraju..-----> koristi seek(0) da resetiraš cursor"
   ]
  }
 ],
 "metadata": {
  "kernelspec": {
   "display_name": "Python 3",
   "language": "python",
   "name": "python3"
  },
  "language_info": {
   "codemirror_mode": {
    "name": "ipython",
    "version": 3
   },
   "file_extension": ".py",
   "mimetype": "text/x-python",
   "name": "python",
   "nbconvert_exporter": "python",
   "pygments_lexer": "ipython3",
   "version": "3.6.3"
  }
 },
 "nbformat": 4,
 "nbformat_minor": 5
}
