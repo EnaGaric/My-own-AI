{
 "cells": [
  {
   "cell_type": "code",
   "execution_count": null,
   "id": "4ff9e941",
   "metadata": {},
   "outputs": [],
   "source": [
    "Glavna formula:\n",
    "    \n",
    "X if condition else Y"
   ]
  },
  {
   "cell_type": "code",
   "execution_count": null,
   "id": "a8298c38",
   "metadata": {},
   "outputs": [],
   "source": [
    "Kako radit:\n",
    "    \n",
    "prvo napravi varijablu. To može bit str, int, bool, float..\n",
    "onda stavi X koji će ti izbacit string koji uneseš kao \"\"\n",
    "if condition znači da tražiš nešto, može bit veliko slovo, određeni broj, itd\n",
    "else Y će ti izbacit Y jer uvjet if nije zadovoljen\n",
    "samo ti je važan uvjet if, čim je on false python piše else, bez obzira ima li smisla ili ne\n",
    "Y je isto nešto ka X"
   ]
  },
  {
   "cell_type": "code",
   "execution_count": null,
   "id": "8aa7278d",
   "metadata": {},
   "outputs": [],
   "source": [
    "Možeš pisati i if, elif i else u jednoj liniji preko ove formule:\n",
    "    \n",
    "X if condition1 else Y if condition2 else Z\n",
    "\n",
    "1) ako X nije zadovoljen, Python onda gleda jeli Y zadovoljen\n",
    "2) ako je Y zadovoljen, piše Y\n",
    "3) ako nije zadovoljen ni x ni y, izbacuje else\n",
    "\n",
    "također možeš pisati i ovako:\n",
    "    \n",
    "1. X if condition1 else (Y if condition2 else Z)\n",
    "2. (X if condition1 else Y) if condition2 else Z\n",
    "\n",
    "ubiti je ista stvar, samo ti je kao lakše da se ne zbuniš\n",
    "\n",
    "pazi, ako gledaš npr condition da ti je uz to or, and ili not, moraš opet napisat varijablu\n",
    "npr. blabla = condicija\n",
    "\n",
    "X if blabla == condicija or blabla <5"
   ]
  },
  {
   "cell_type": "code",
   "execution_count": null,
   "id": "29418de8",
   "metadata": {},
   "outputs": [],
   "source": [
    "GLAVNO:\n",
    "    \n",
    "X if condition else Y\n",
    "\n",
    "X if condition1 else Y if condition2 else Z\n",
    "\n",
    "1. X if condition1 else (Y if condition2 else Z)\n",
    "2. (X if condition1 else Y) if condition2 else Z"
   ]
  }
 ],
 "metadata": {
  "kernelspec": {
   "display_name": "Python 3",
   "language": "python",
   "name": "python3"
  },
  "language_info": {
   "codemirror_mode": {
    "name": "ipython",
    "version": 3
   },
   "file_extension": ".py",
   "mimetype": "text/x-python",
   "name": "python",
   "nbconvert_exporter": "python",
   "pygments_lexer": "ipython3",
   "version": "3.6.3"
  }
 },
 "nbformat": 4,
 "nbformat_minor": 5
}
