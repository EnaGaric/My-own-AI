{
 "cells": [
  {
   "cell_type": "code",
   "execution_count": null,
   "id": "868ad6a3",
   "metadata": {},
   "outputs": [],
   "source": [
    "#druga osnova: conditional expression"
   ]
  },
  {
   "cell_type": "code",
   "execution_count": null,
   "id": "46a64909",
   "metadata": {},
   "outputs": [],
   "source": [
    "#on ti omogućuje da u jednoj liniji napišeš if i else statement"
   ]
  },
  {
   "cell_type": "code",
   "execution_count": null,
   "id": "5b4485d3",
   "metadata": {},
   "outputs": [],
   "source": [
    "#conditional expression = A one-line shortcut for the if-else statement\n",
    "#poznat je kao i ternary operator\n",
    "#print or assign one of two values based on a condition"
   ]
  },
  {
   "cell_type": "code",
   "execution_count": null,
   "id": "ece11c3a",
   "metadata": {},
   "outputs": [],
   "source": [
    "X if condition else Y\n",
    "\n",
    "#to ti je glavna formula po kojoj se vodiš"
   ]
  },
  {
   "cell_type": "code",
   "execution_count": 1,
   "id": "ae896230",
   "metadata": {},
   "outputs": [
    {
     "name": "stdout",
     "output_type": "stream",
     "text": [
      "Positive\n"
     ]
    }
   ],
   "source": [
    "#primjer:\n",
    "\n",
    "num = 5\n",
    "\n",
    "print(\"Positive\" if num> 0 else \"Negative\")"
   ]
  },
  {
   "cell_type": "code",
   "execution_count": 3,
   "id": "ebd96512",
   "metadata": {},
   "outputs": [
    {
     "name": "stdout",
     "output_type": "stream",
     "text": [
      "Negative\n"
     ]
    }
   ],
   "source": [
    "#što ako...\n",
    "\n",
    "numb = 0\n",
    "\n",
    "print(\"Positive\" if numb > 0 else \"Negative\")"
   ]
  },
  {
   "cell_type": "code",
   "execution_count": 4,
   "id": "cfbb05a8",
   "metadata": {},
   "outputs": [
    {
     "ename": "SyntaxError",
     "evalue": "invalid syntax (<ipython-input-4-6132031cc3c1>, line 5)",
     "output_type": "error",
     "traceback": [
      "\u001b[1;36m  File \u001b[1;32m\"<ipython-input-4-6132031cc3c1>\"\u001b[1;36m, line \u001b[1;32m5\u001b[0m\n\u001b[1;33m    result = \"Even\" if num% == 0 else #Odd\"\u001b[0m\n\u001b[1;37m                             ^\u001b[0m\n\u001b[1;31mSyntaxError\u001b[0m\u001b[1;31m:\u001b[0m invalid syntax\n"
     ]
    }
   ],
   "source": [
    "#amo sad gledat jeli even ili odd\n",
    "\n",
    "numbe = 5\n",
    "\n",
    "result = \"Even\" if num % 2 == 0 else #Odd\"\n",
    "print(result)"
   ]
  },
  {
   "cell_type": "code",
   "execution_count": 6,
   "id": "8f022c4e",
   "metadata": {},
   "outputs": [
    {
     "name": "stdout",
     "output_type": "stream",
     "text": [
      "Odd\n"
     ]
    }
   ],
   "source": [
    "\n",
    "numbe = 5\n",
    "\n",
    "result = \"Even\" if numbe % 2 == 0 else \"Odd\"\n",
    "print(result)"
   ]
  },
  {
   "cell_type": "code",
   "execution_count": null,
   "id": "5417e7f6",
   "metadata": {},
   "outputs": [],
   "source": [
    "#Uvijek se vodi ovom formulom. Amo sad testirat za druge slučajeve"
   ]
  },
  {
   "cell_type": "code",
   "execution_count": 7,
   "id": "bbe0da51",
   "metadata": {},
   "outputs": [
    {
     "name": "stdout",
     "output_type": "stream",
     "text": [
      "Even\n"
     ]
    }
   ],
   "source": [
    "numbe = 0\n",
    "\n",
    "result = \"Even\" if numbe % 2 ==0 else \"Odd\"\n",
    "print(result)"
   ]
  },
  {
   "cell_type": "code",
   "execution_count": 8,
   "id": "3c5e312d",
   "metadata": {},
   "outputs": [
    {
     "ename": "SyntaxError",
     "evalue": "invalid syntax (<ipython-input-8-13dee8cd1878>, line 5)",
     "output_type": "error",
     "traceback": [
      "\u001b[1;36m  File \u001b[1;32m\"<ipython-input-8-13dee8cd1878>\"\u001b[1;36m, line \u001b[1;32m5\u001b[0m\n\u001b[1;33m    result = \"Even\" if numbe % 2 ==0  elif numbe == 0 \"None\" else \"Odd\"\u001b[0m\n\u001b[1;37m                                         ^\u001b[0m\n\u001b[1;31mSyntaxError\u001b[0m\u001b[1;31m:\u001b[0m invalid syntax\n"
     ]
    }
   ],
   "source": [
    "#Očekivan je rezultat, iako je matematički kriv. Da budem točan, trebala bi dodat....\n",
    "\n",
    "numbe = 0\n",
    "\n",
    "result = \"Even\" if numbe % 2 ==0  elif numbe == 0 \"None\" else \"Odd\"\n",
    "print(result)"
   ]
  },
  {
   "cell_type": "code",
   "execution_count": 10,
   "id": "0978e6ac",
   "metadata": {},
   "outputs": [
    {
     "ename": "SyntaxError",
     "evalue": "invalid syntax (<ipython-input-10-52c81f6d587e>, line 3)",
     "output_type": "error",
     "traceback": [
      "\u001b[1;36m  File \u001b[1;32m\"<ipython-input-10-52c81f6d587e>\"\u001b[1;36m, line \u001b[1;32m3\u001b[0m\n\u001b[1;33m    result = \"Even\" if numbe % 2 ==0 \"None \" if numbe == 0 else \"Odd\"\u001b[0m\n\u001b[1;37m                                           ^\u001b[0m\n\u001b[1;31mSyntaxError\u001b[0m\u001b[1;31m:\u001b[0m invalid syntax\n"
     ]
    }
   ],
   "source": [
    "numbe = 0\n",
    "\n",
    "result = \"Even\" if numbe % 2 ==0 \"None \" if numbe == 0 else \"Odd\"\n",
    "print(result)"
   ]
  },
  {
   "cell_type": "code",
   "execution_count": 13,
   "id": "635d2cae",
   "metadata": {},
   "outputs": [
    {
     "ename": "SyntaxError",
     "evalue": "invalid syntax (<ipython-input-13-0364a64dce42>, line 5)",
     "output_type": "error",
     "traceback": [
      "\u001b[1;36m  File \u001b[1;32m\"<ipython-input-13-0364a64dce42>\"\u001b[1;36m, line \u001b[1;32m5\u001b[0m\n\u001b[1;33m    reslut1= \"None\" if numbe =0\u001b[0m\n\u001b[1;37m                             ^\u001b[0m\n\u001b[1;31mSyntaxError\u001b[0m\u001b[1;31m:\u001b[0m invalid syntax\n"
     ]
    }
   ],
   "source": [
    "#očito mi je lakše samo napravit novu petlju\n",
    "\n",
    "numbe = 0\n",
    "\n",
    "reslut1= \"None\" if numbe = 0\n",
    "result = \"Even\" if numbe % 2 ==0 and result1 = False else \"Odd\"\n",
    "print(result)"
   ]
  },
  {
   "cell_type": "code",
   "execution_count": 18,
   "id": "ed9a705f",
   "metadata": {},
   "outputs": [
    {
     "name": "stdout",
     "output_type": "stream",
     "text": [
      "Odd\n"
     ]
    }
   ],
   "source": [
    "numbe = 0\n",
    "\n",
    "result1= True if numbe == 0 else False\n",
    "result = \"Even\" if numbe % 2 ==0 and result1 == False else \"Odd\"\n",
    "print(result)"
   ]
  },
  {
   "cell_type": "code",
   "execution_count": 20,
   "id": "bf2be1e5",
   "metadata": {},
   "outputs": [
    {
     "name": "stdout",
     "output_type": "stream",
     "text": [
      "None\n"
     ]
    }
   ],
   "source": [
    "#opet krivo...probaj drugi način\n",
    "numbe = 0\n",
    "\n",
    "result = \"None\" if numbe==0 else \"Even\" if numbe %2 == 0 else \"Odd\"\n",
    "print(result)"
   ]
  },
  {
   "cell_type": "code",
   "execution_count": 24,
   "id": "115313d5",
   "metadata": {},
   "outputs": [
    {
     "name": "stdout",
     "output_type": "stream",
     "text": [
      "Adult\n"
     ]
    }
   ],
   "source": [
    "#X if condition else Y\n",
    "\n",
    "#prvo napraviš varijablu npr age\n",
    "#  X = return a string npr Adult\n",
    "# if condition\n",
    "#condition = ono šta tražiš, znači if ovo else lno\n",
    "# Y = else return a string npr Child\n",
    "\n",
    "age = 25\n",
    "\n",
    "status = \"Adult\" if age >= 18 else \"Child\"\n",
    "print(status)"
   ]
  },
  {
   "cell_type": "code",
   "execution_count": 27,
   "id": "c6ed6abb",
   "metadata": {},
   "outputs": [
    {
     "ename": "SyntaxError",
     "evalue": "invalid syntax (<ipython-input-27-d394453ef2a9>, line 2)",
     "output_type": "error",
     "traceback": [
      "\u001b[1;36m  File \u001b[1;32m\"<ipython-input-27-d394453ef2a9>\"\u001b[1;36m, line \u001b[1;32m2\u001b[0m\n\u001b[1;33m    osjecaj = \"Hot\" if temperature > 35 \"Okej\" if temperature == 35 \"Lipo\" if temperature < 20 and > 10 else \"Procijeni sam\"\u001b[0m\n\u001b[1;37m                                             ^\u001b[0m\n\u001b[1;31mSyntaxError\u001b[0m\u001b[1;31m:\u001b[0m invalid syntax\n"
     ]
    }
   ],
   "source": [
    "temperature = int(input(\"Unesi\" ))\n",
    "osjecaj = \"Hot\" if temperature > 35 \"Okej\" if temperature == 35 \"Lipo\" if temperature < 20 and > 10 else \"Procijeni sam\"\n",
    "print(osjecaj)"
   ]
  },
  {
   "cell_type": "code",
   "execution_count": 31,
   "id": "43755b74",
   "metadata": {},
   "outputs": [
    {
     "ename": "SyntaxError",
     "evalue": "invalid syntax (<ipython-input-31-26cfefeb3b6f>, line 2)",
     "output_type": "error",
     "traceback": [
      "\u001b[1;36m  File \u001b[1;32m\"<ipython-input-31-26cfefeb3b6f>\"\u001b[1;36m, line \u001b[1;32m2\u001b[0m\n\u001b[1;33m    osjecaj = \"Hot\" if temperature > 35 else \"Okej\" if temperature == 35 else \"Lipo\" if temperature < 20 and >10 else \"Procijeni sam\"\u001b[0m\n\u001b[1;37m                                                                                                             ^\u001b[0m\n\u001b[1;31mSyntaxError\u001b[0m\u001b[1;31m:\u001b[0m invalid syntax\n"
     ]
    }
   ],
   "source": [
    "temperature = int(input(\"Unesi\" ))\n",
    "osjecaj = \"Hot\" if temperature > 35 else \"Okej\" if temperature == 35 else \"Lipo\" if temperature < 20 and >10 else \"Procijeni sam\"\n",
    "print(osjecaj)"
   ]
  },
  {
   "cell_type": "code",
   "execution_count": 37,
   "id": "a066a7c1",
   "metadata": {},
   "outputs": [
    {
     "name": "stdout",
     "output_type": "stream",
     "text": [
      " 35\n",
      "Okej\n"
     ]
    }
   ],
   "source": [
    "# nesmis napisat and > 10 bez da ponovis varijablu jer je Python smotano dite\n",
    "\n",
    "temperature = int(input(\" \" ))\n",
    "\n",
    "osjecaj = \"Hot\" if temperature > 35 else \"Okej\" if temperature == 35 else \"Lipo\" if temperature < 20 and temperature >10 else \"Procijeni sam\"\n",
    "\n",
    "print(osjecaj)"
   ]
  },
  {
   "cell_type": "code",
   "execution_count": null,
   "id": "b4dc4dcf",
   "metadata": {},
   "outputs": [],
   "source": [
    "#Ono šta si gore falila više puta ti je ovo:\n",
    "\n",
    "#By combining conditional expressions, you can write an operation like if ... elif ... else ... in one line.\n",
    "\n",
    "#X if condition1 else Y if condition2 else Z\n",
    "\n",
    "#Također sam našla da vrijedi i ovo:\n",
    "\n",
    "#1. X if condition1 else (Y if condition2 else Z)\n",
    "#2. (X if condition1 else Y) if condition2 else Z"
   ]
  },
  {
   "cell_type": "code",
   "execution_count": null,
   "id": "1782da6f",
   "metadata": {},
   "outputs": [],
   "source": [
    "#Znači, conditional expressions su zgodni i više pythonic ako želiš provjerit neku kratku odluku\n",
    "#ako imaš više conditions, radije koristi if elif i else\n",
    "#pripazi, python ce ti samo gledat if jeli točan, tj ta \"grana\" dio koji je potreban ako je uvjet istiit ili ako uvjet nije istinit\n",
    "#to znači da neće gledat else dio jeli istinit ili ne nego će ga samo ispisat"
   ]
  },
  {
   "cell_type": "code",
   "execution_count": 47,
   "id": "e0cd8957",
   "metadata": {},
   "outputs": [
    {
     "name": "stdout",
     "output_type": "stream",
     "text": [
      "Upiši ocjenu: 3\n",
      "Pass\n"
     ]
    }
   ],
   "source": [
    "#Amo bit profesor\n",
    "\n",
    "ocjena = int(input(\"Upiši ocjenu: \"))\n",
    "\n",
    "prolaz = \"Fail\" if 0 < ocjena < 3 else \"Pass\" if  6 > ocjena > 2 else \"Invalid\"\n",
    "\n",
    "print(prolaz)"
   ]
  },
  {
   "cell_type": "code",
   "execution_count": null,
   "id": "fef774bd",
   "metadata": {},
   "outputs": [],
   "source": []
  }
 ],
 "metadata": {
  "kernelspec": {
   "display_name": "Python 3",
   "language": "python",
   "name": "python3"
  },
  "language_info": {
   "codemirror_mode": {
    "name": "ipython",
    "version": 3
   },
   "file_extension": ".py",
   "mimetype": "text/x-python",
   "name": "python",
   "nbconvert_exporter": "python",
   "pygments_lexer": "ipython3",
   "version": "3.6.3"
  }
 },
 "nbformat": 4,
 "nbformat_minor": 5
}
